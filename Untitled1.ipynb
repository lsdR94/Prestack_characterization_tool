{
 "cells": [
  {
   "cell_type": "code",
   "execution_count": 2,
   "metadata": {},
   "outputs": [
    {
     "ename": "ModuleNotFoundError",
     "evalue": "No module named 'segyio'",
     "output_type": "error",
     "traceback": [
      "\u001b[0;31m---------------------------------------------------------------------------\u001b[0m",
      "\u001b[0;31mModuleNotFoundError\u001b[0m                       Traceback (most recent call last)",
      "\u001b[0;32m<ipython-input-2-5d3a5db834ea>\u001b[0m in \u001b[0;36m<module>\u001b[0;34m\u001b[0m\n\u001b[0;32m----> 1\u001b[0;31m \u001b[0;32mimport\u001b[0m \u001b[0msegyio\u001b[0m\u001b[0;34m\u001b[0m\u001b[0;34m\u001b[0m\u001b[0m\n\u001b[0m\u001b[1;32m      2\u001b[0m \u001b[0;32mimport\u001b[0m \u001b[0mnumpy\u001b[0m \u001b[0;32mas\u001b[0m \u001b[0mnp\u001b[0m\u001b[0;34m\u001b[0m\u001b[0;34m\u001b[0m\u001b[0m\n\u001b[1;32m      3\u001b[0m \u001b[0;32mimport\u001b[0m \u001b[0mmatplotlib\u001b[0m\u001b[0;34m.\u001b[0m\u001b[0mpyplot\u001b[0m \u001b[0;32mas\u001b[0m \u001b[0mplt\u001b[0m\u001b[0;34m\u001b[0m\u001b[0;34m\u001b[0m\u001b[0m\n\u001b[1;32m      4\u001b[0m \u001b[0;32mfrom\u001b[0m \u001b[0mbokeh\u001b[0m\u001b[0;34m.\u001b[0m\u001b[0mplotting\u001b[0m \u001b[0;32mimport\u001b[0m \u001b[0mfigure\u001b[0m\u001b[0;34m,\u001b[0m \u001b[0moutput_file\u001b[0m\u001b[0;34m,\u001b[0m \u001b[0mshow\u001b[0m\u001b[0;34m,\u001b[0m \u001b[0moutput_notebook\u001b[0m\u001b[0;34m\u001b[0m\u001b[0;34m\u001b[0m\u001b[0m\n\u001b[1;32m      5\u001b[0m \u001b[0;32mfrom\u001b[0m \u001b[0mbokeh\u001b[0m\u001b[0;34m.\u001b[0m\u001b[0mmodels\u001b[0m \u001b[0;32mimport\u001b[0m \u001b[0mColumnDataSource\u001b[0m\u001b[0;34m,\u001b[0m \u001b[0mLinearAxis\u001b[0m\u001b[0;34m,\u001b[0m \u001b[0mRange1d\u001b[0m\u001b[0;34m\u001b[0m\u001b[0;34m\u001b[0m\u001b[0m\n",
      "\u001b[0;31mModuleNotFoundError\u001b[0m: No module named 'segyio'"
     ]
    }
   ],
   "source": [
    "import segyio\n",
    "import numpy as np\n",
    "import matplotlib.pyplot as plt\n",
    "from bokeh.plotting import figure, output_file, show, output_notebook\n",
    "from bokeh.models import ColumnDataSource, LinearAxis, Range1d\n",
    "import pandas as pd\n",
    "import holoviews as hv\n",
    "from holoviews import opts, dim\n",
    "from bokeh.models import HoverTool\n",
    "hv.extension('bokeh','matplotlib')\n"
   ]
  },
  {
   "cell_type": "code",
   "execution_count": 3,
   "metadata": {},
   "outputs": [
    {
     "ename": "NameError",
     "evalue": "name 'pd' is not defined",
     "output_type": "error",
     "traceback": [
      "\u001b[0;31m---------------------------------------------------------------------------\u001b[0m",
      "\u001b[0;31mNameError\u001b[0m                                 Traceback (most recent call last)",
      "\u001b[0;32m<ipython-input-3-27aaba1d99a1>\u001b[0m in \u001b[0;36m<module>\u001b[0;34m\u001b[0m\n\u001b[1;32m      1\u001b[0m \u001b[0;31m#Lectura de archivo txt + creación de dataframe con los siguientes parámetros\u001b[0m\u001b[0;34m\u001b[0m\u001b[0;34m\u001b[0m\u001b[0;34m\u001b[0m\u001b[0m\n\u001b[0;32m----> 2\u001b[0;31m pozos = pd.read_csv('Pozos_Info.txt',\n\u001b[0m\u001b[1;32m      3\u001b[0m                     \u001b[0msep\u001b[0m\u001b[0;34m=\u001b[0m\u001b[0;34m' '\u001b[0m\u001b[0;34m,\u001b[0m\u001b[0;34m\u001b[0m\u001b[0;34m\u001b[0m\u001b[0m\n\u001b[1;32m      4\u001b[0m                     \u001b[0mheader\u001b[0m \u001b[0;34m=\u001b[0m \u001b[0;32mNone\u001b[0m\u001b[0;34m,\u001b[0m\u001b[0;34m\u001b[0m\u001b[0;34m\u001b[0m\u001b[0m\n\u001b[1;32m      5\u001b[0m                     names= ['nombre','utmx','utmy','h_MR_[m]','depth','v_rp[m/s]','IX'])\n",
      "\u001b[0;31mNameError\u001b[0m: name 'pd' is not defined"
     ]
    }
   ],
   "source": [
    "#Lectura de archivo txt + creación de dataframe con los siguientes parámetros\n",
    "pozos = pd.read_csv('Pozos_Info.txt',\n",
    "                    sep=' ',\n",
    "                    header = None, \n",
    "                    names= ['nombre','utmx','utmy','h_MR_[m]','depth','v_rp[m/s]','IX'])"
   ]
  },
  {
   "cell_type": "code",
   "execution_count": 4,
   "metadata": {},
   "outputs": [
    {
     "ename": "NameError",
     "evalue": "name 'pd' is not defined",
     "output_type": "error",
     "traceback": [
      "\u001b[0;31m---------------------------------------------------------------------------\u001b[0m",
      "\u001b[0;31mNameError\u001b[0m                                 Traceback (most recent call last)",
      "\u001b[0;32m<ipython-input-4-ec94c383add5>\u001b[0m in \u001b[0;36m<module>\u001b[0;34m\u001b[0m\n\u001b[0;32m----> 1\u001b[0;31m \u001b[0mcube_trace_coordinates\u001b[0m \u001b[0;34m=\u001b[0m \u001b[0mpd\u001b[0m\u001b[0;34m.\u001b[0m\u001b[0mDataFrame\u001b[0m\u001b[0;34m(\u001b[0m\u001b[0mcolumns\u001b[0m \u001b[0;34m=\u001b[0m \u001b[0;34m[\u001b[0m\u001b[0;34m'tracf'\u001b[0m\u001b[0;34m,\u001b[0m\u001b[0;34m'utmx'\u001b[0m\u001b[0;34m,\u001b[0m\u001b[0;34m'utmy'\u001b[0m\u001b[0;34m]\u001b[0m\u001b[0;34m)\u001b[0m\u001b[0;34m\u001b[0m\u001b[0;34m\u001b[0m\u001b[0m\n\u001b[0m\u001b[1;32m      2\u001b[0m \u001b[0;32mwith\u001b[0m \u001b[0msegyio\u001b[0m\u001b[0;34m.\u001b[0m\u001b[0mopen\u001b[0m\u001b[0;34m(\u001b[0m\u001b[0;34m'NS2900-2200_3000-2300.sgy'\u001b[0m\u001b[0;34m,\u001b[0m\u001b[0;34m'r'\u001b[0m\u001b[0;34m)\u001b[0m \u001b[0;32mas\u001b[0m \u001b[0msegy\u001b[0m\u001b[0;34m:\u001b[0m\u001b[0;34m\u001b[0m\u001b[0;34m\u001b[0m\u001b[0m\n\u001b[1;32m      3\u001b[0m     \u001b[0mcube_trace_coordinates\u001b[0m\u001b[0;34m[\u001b[0m\u001b[0;34m'tracf'\u001b[0m\u001b[0;34m]\u001b[0m \u001b[0;34m=\u001b[0m \u001b[0msegy\u001b[0m\u001b[0;34m.\u001b[0m\u001b[0mattributes\u001b[0m\u001b[0;34m(\u001b[0m\u001b[0msegyio\u001b[0m\u001b[0;34m.\u001b[0m\u001b[0mTraceField\u001b[0m\u001b[0;34m.\u001b[0m\u001b[0mTRACE_SEQUENCE_FILE\u001b[0m\u001b[0;34m)\u001b[0m\u001b[0;34m[\u001b[0m\u001b[0;34m:\u001b[0m\u001b[0;34m]\u001b[0m \u001b[0;31m# Coordenadas UTM X de todas las trazas\u001b[0m\u001b[0;34m\u001b[0m\u001b[0;34m\u001b[0m\u001b[0m\n\u001b[1;32m      4\u001b[0m     \u001b[0mcube_trace_coordinates\u001b[0m\u001b[0;34m[\u001b[0m\u001b[0;34m'utmx'\u001b[0m\u001b[0;34m]\u001b[0m \u001b[0;34m=\u001b[0m \u001b[0msegy\u001b[0m\u001b[0;34m.\u001b[0m\u001b[0mattributes\u001b[0m\u001b[0;34m(\u001b[0m\u001b[0msegyio\u001b[0m\u001b[0;34m.\u001b[0m\u001b[0mTraceField\u001b[0m\u001b[0;34m.\u001b[0m\u001b[0mCDP_X\u001b[0m\u001b[0;34m)\u001b[0m\u001b[0;34m[\u001b[0m\u001b[0;34m:\u001b[0m\u001b[0;34m]\u001b[0m\u001b[0;34m/\u001b[0m\u001b[0;36m10\u001b[0m \u001b[0;31m# Coordenadas UTM Y de todas las trazas\u001b[0m\u001b[0;34m\u001b[0m\u001b[0;34m\u001b[0m\u001b[0m\n\u001b[1;32m      5\u001b[0m     \u001b[0mcube_trace_coordinates\u001b[0m\u001b[0;34m[\u001b[0m\u001b[0;34m'utmy'\u001b[0m\u001b[0;34m]\u001b[0m \u001b[0;34m=\u001b[0m \u001b[0msegy\u001b[0m\u001b[0;34m.\u001b[0m\u001b[0mattributes\u001b[0m\u001b[0;34m(\u001b[0m\u001b[0msegyio\u001b[0m\u001b[0;34m.\u001b[0m\u001b[0mTraceField\u001b[0m\u001b[0;34m.\u001b[0m\u001b[0mCDP_Y\u001b[0m\u001b[0;34m)\u001b[0m\u001b[0;34m[\u001b[0m\u001b[0;34m:\u001b[0m\u001b[0;34m]\u001b[0m\u001b[0;34m/\u001b[0m\u001b[0;36m10\u001b[0m \u001b[0;31m#Traza nro\u001b[0m\u001b[0;34m\u001b[0m\u001b[0;34m\u001b[0m\u001b[0m\n",
      "\u001b[0;31mNameError\u001b[0m: name 'pd' is not defined"
     ]
    }
   ],
   "source": [
    "cube_trace_coordinates = pd.DataFrame(columns = ['tracf','utmx','utmy'])\n",
    "with segyio.open('NS2900-2200_3000-2300.sgy','r') as segy:\n",
    "    cube_trace_coordinates['tracf'] = segy.attributes(segyio.TraceField.TRACE_SEQUENCE_FILE)[:] # Coordenadas UTM X de todas las trazas\n",
    "    cube_trace_coordinates['utmx'] = segy.attributes(segyio.TraceField.CDP_X)[:]/10 # Coordenadas UTM Y de todas las trazas\n",
    "    cube_trace_coordinates['utmy'] = segy.attributes(segyio.TraceField.CDP_Y)[:]/10 #Traza nro\n",
    "    #cube_trace_coordinates['Amplitud'] = segy.trace[:]\n",
    "    cube_trace_coordinates['cdp_xline'] = segy.attributes(segyio.TraceField.CROSSLINE_3D)[:]\n",
    "    cube_trace_coordinates['cdp_iline'] = segy.attributes(segyio.TraceField.INLINE_3D)[:]\n",
    "cube_trace_coordinates"
   ]
  },
  {
   "cell_type": "markdown",
   "metadata": {},
   "source": [
    "# ============================================================"
   ]
  },
  {
   "cell_type": "markdown",
   "metadata": {},
   "source": [
    "# Funciones para plot de gathers en dirección inline i / crossline x [Holoviews]"
   ]
  },
  {
   "cell_type": "markdown",
   "metadata": {},
   "source": [
    "# ============================================================"
   ]
  },
  {
   "cell_type": "code",
   "execution_count": null,
   "metadata": {},
   "outputs": [],
   "source": [
    "def inline_wiggle_plot(iline):\n",
    "#== DataFrames para cada eje: menos datos para leer    \n",
    "    inline_plot = trace_coordinates[trace_coordinates['cdp_iline']==iline].reset_index().drop(columns='index')\n",
    "\n",
    "#== Inicialización de nuevas columnas\n",
    "    inline_plot['time_slice'],inline_plot['amplitud'] = (0,0)\n",
    "    \n",
    "#== Indexing de amplitud y time slice para posterior plot **[dtype = object]\n",
    "    with segyio.open('NS2900-2200_3000-2300.sgy','r') as segy:\n",
    "        for i in range(0,len(inline_plot)+1,1):\n",
    "            inline_plot['amplitud'][i] = (segy.trace[i]/segy.trace[i].max()).astype(object)\n",
    "            inline_plot['time_slice'][i] = np.arange(0,-6.004,-0.004, dtype=object)\n",
    "            \n",
    "#== Creación de eje x para el plot conjunto\n",
    "    inline_plot['wiggle'] = inline_plot['cdp_xline'] + inline_plot['amplitud']\n",
    "\n",
    "#== Plot de wiggle\n",
    "    inline_wiggle_plot = hv.Path({'x': inline_plot['wiggle'][0], 'y': inline_plot['time_slice'][0]})\n",
    "    inline_wiggle_plot.opts(color = 'white', line_width=1)\n",
    "    for i in range(0,len(inline_plot),1):\n",
    "        inline_wiggle_plot1 = hv.Path({'x': inline_plot['wiggle'][i], 'y': inline_plot['time_slice'][i]})\n",
    "        inline_wiggle_plot1.opts(color = 'black', line_width=1)\n",
    "        inline_wiggle_plot = inline_wiggle_plot * inline_wiggle_plot1\n",
    "    inline_wiggle_plot.opts(height=800, width=500,xaxis = 'top',padding = 0.001, show_grid = True)\n",
    "\n",
    "    return inline_wiggle_plot"
   ]
  },
  {
   "cell_type": "code",
   "execution_count": null,
   "metadata": {},
   "outputs": [],
   "source": [
    "inline_wiggle_plot(2990)"
   ]
  },
  {
   "cell_type": "code",
   "execution_count": null,
   "metadata": {},
   "outputs": [],
   "source": []
  }
 ],
 "metadata": {
  "kernelspec": {
   "display_name": "Python 3",
   "language": "python",
   "name": "python3"
  },
  "language_info": {
   "codemirror_mode": {
    "name": "ipython",
    "version": 3
   },
   "file_extension": ".py",
   "mimetype": "text/x-python",
   "name": "python",
   "nbconvert_exporter": "python",
   "pygments_lexer": "ipython3",
   "version": "3.6.7"
  }
 },
 "nbformat": 4,
 "nbformat_minor": 2
}
