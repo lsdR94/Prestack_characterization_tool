{
 "cells": [
  {
   "cell_type": "code",
   "execution_count": 1,
   "metadata": {
    "ExecuteTime": {
     "end_time": "2019-08-14T22:43:53.683383Z",
     "start_time": "2019-08-14T22:43:48.118455Z"
    }
   },
   "outputs": [],
   "source": [
    "import multiprocessing\n",
    "from multiprocessing import Pool\n",
    "import os\n",
    "import numpy as np\n",
    "import pandas as pd\n",
    "import segyio"
   ]
  },
  {
   "cell_type": "code",
   "execution_count": 2,
   "metadata": {
    "ExecuteTime": {
     "end_time": "2019-08-14T22:43:53.700923Z",
     "start_time": "2019-08-14T22:43:53.687764Z"
    }
   },
   "outputs": [],
   "source": [
    "# Seismic data: SEG-Y format\n",
    "near_stack = os.path.join(\"..\", \"data\", \"NS2950-2180_3000-2230.sgy\")\n",
    "mid_stack = os.path.join(\"..\", \"data\", \"MS2950-2180_3000-2230.sgy\")\n",
    "far_stack = os.path.join(\"..\", \"data\", \"FS2950-2180_3000-2230.sgy\")\n",
    "\n",
    "# To store G and I\n",
    "g_i = os.path.join(\"..\", \"data\", \"GradInter.sgy\")\n",
    "# Wells data: txt format\n",
    "wells_path = '../data/wells_info.txt'\n",
    "\n",
    "# Store the seismic data in a list\n",
    "gather_path = [near_stack, mid_stack, far_stack]"
   ]
  },
  {
   "cell_type": "code",
   "execution_count": 3,
   "metadata": {
    "ExecuteTime": {
     "end_time": "2019-08-14T22:43:53.809307Z",
     "start_time": "2019-08-14T22:43:53.705512Z"
    }
   },
   "outputs": [],
   "source": [
    "# Name of the survery to display in the results\n",
    "seismic_survey = 'POSEIDON 3D'\n",
    "\n",
    "# Name and path of the merged SEG-Y file\n",
    "merged_stacks = os.path.join(\"..\", \"data\", \"NMF2950-2180_3000-2230.sgy\")\n",
    "\n",
    "# Gradient file (SEGY)\n",
    "gradient_segy = os.path.join(\"..\", \"data\", \"gradient.sgy\")\n",
    "# Intercept file (SEGY)\n",
    "intercept_segy = os.path.join(\"..\", \"data\", \"intercept.sgy\")\n",
    "\n",
    "# Angle between the gathers given\n",
    "angle_bet_gathers = 12\n",
    "\n",
    "# Making a list with the angle of the gathers\n",
    "angle_list = []\n",
    "angle = angle_bet_gathers\n",
    "for file in range(len(gather_path)):\n",
    "    angle_list = angle_list + [angle]\n",
    "    angle = angle + angle_bet_gathers"
   ]
  },
  {
   "cell_type": "code",
   "execution_count": 4,
   "metadata": {
    "ExecuteTime": {
     "end_time": "2019-08-14T22:43:53.909150Z",
     "start_time": "2019-08-14T22:43:53.814502Z"
    }
   },
   "outputs": [],
   "source": [
    "def data(merged_file):\n",
    "    with segyio.open(merged_file, \"r+\") as f:\n",
    "        \n",
    "        \n",
    "        for iline_number in f.ilines:\n",
    "            for xline_number in f.xlines:\n",
    "                for angle in angle_list:\n",
    "                    yield [iline_number, xline_number, angle]"
   ]
  },
  {
   "cell_type": "code",
   "execution_count": 5,
   "metadata": {
    "ExecuteTime": {
     "end_time": "2019-08-14T22:43:54.017464Z",
     "start_time": "2019-08-14T22:43:53.915060Z"
    }
   },
   "outputs": [],
   "source": [
    "x = data(merged_stacks)"
   ]
  },
  {
   "cell_type": "code",
   "execution_count": 6,
   "metadata": {
    "ExecuteTime": {
     "end_time": "2019-08-14T22:43:54.119664Z",
     "start_time": "2019-08-14T22:43:54.021288Z"
    }
   },
   "outputs": [],
   "source": [
    "import numpy as np"
   ]
  },
  {
   "cell_type": "code",
   "execution_count": 7,
   "metadata": {
    "ExecuteTime": {
     "end_time": "2019-08-14T22:43:54.224586Z",
     "start_time": "2019-08-14T22:43:54.123866Z"
    }
   },
   "outputs": [
    {
     "data": {
      "text/plain": [
       "array(<generator object data at 0xa90b286c>, dtype=object)"
      ]
     },
     "execution_count": 7,
     "metadata": {},
     "output_type": "execute_result"
    }
   ],
   "source": [
    "np.array(x)"
   ]
  },
  {
   "cell_type": "code",
   "execution_count": 8,
   "metadata": {
    "ExecuteTime": {
     "end_time": "2019-08-14T22:43:54.319303Z",
     "start_time": "2019-08-14T22:43:54.228440Z"
    }
   },
   "outputs": [],
   "source": [
    "def sds(num1, num2, list):\n",
    "    x = 1\n",
    "    for number in list:\n",
    "        x *= number\n",
    "    total = num1 + num2 * x\n",
    "    return total"
   ]
  },
  {
   "cell_type": "code",
   "execution_count": 9,
   "metadata": {
    "ExecuteTime": {
     "end_time": "2019-08-14T22:43:54.445154Z",
     "start_time": "2019-08-14T22:43:54.325813Z"
    }
   },
   "outputs": [
    {
     "data": {
      "text/plain": [
       "201"
      ]
     },
     "execution_count": 9,
     "metadata": {},
     "output_type": "execute_result"
    }
   ],
   "source": [
    "sds(1, 2,[10,10])"
   ]
  },
  {
   "cell_type": "code",
   "execution_count": null,
   "metadata": {},
   "outputs": [],
   "source": []
  },
  {
   "cell_type": "code",
   "execution_count": null,
   "metadata": {},
   "outputs": [],
   "source": []
  },
  {
   "cell_type": "code",
   "execution_count": 16,
   "metadata": {
    "ExecuteTime": {
     "end_time": "2019-08-14T22:45:43.597100Z",
     "start_time": "2019-08-14T22:45:43.511415Z"
    }
   },
   "outputs": [
    {
     "name": "stdout",
     "output_type": "stream",
     "text": [
      "100\n",
      "[0, 1, 4, 9, 16, 25, 36, 49, 64, 81]\n",
      "0\n",
      "1\n",
      "4\n"
     ]
    }
   ],
   "source": [
    "from multiprocessing import Pool\n",
    "import time\n",
    "\n",
    "def f(x):\n",
    "    return x*x\n",
    "\n",
    "if __name__ == '__main__':\n",
    "    pool = Pool(processes=4)              # start 4 worker processes\n",
    "\n",
    "    result = pool.apply_async(f, (10,))   # evaluate \"f(10)\" asynchronously in a single process\n",
    "    print (result.get(timeout=1) )          # prints \"100\" unless your computer is *very* slow\n",
    "\n",
    "    print (pool.map(f, range(10)) )         # prints \"[0, 1, 4,..., 81]\"\n",
    "\n",
    "    it = pool.imap(f, range(10))\n",
    "    print (it.next())                       # prints \"0\"\n",
    "    print (it.next())                   # prints \"1\"\n",
    "    print (it.next(timeout=1))              # prints \"4\" unless your computer is *very* slow\n",
    "\n",
    "    result = pool.apply_async(time.sleep, (10,))\n",
    "    #print (result.get(timeout=1))          # raises multiprocessing.TimeoutError"
   ]
  },
  {
   "cell_type": "code",
   "execution_count": null,
   "metadata": {},
   "outputs": [],
   "source": []
  }
 ],
 "metadata": {
  "kernelspec": {
   "display_name": "tesis",
   "language": "python",
   "name": "tesis"
  },
  "language_info": {
   "codemirror_mode": {
    "name": "ipython",
    "version": 3
   },
   "file_extension": ".py",
   "mimetype": "text/x-python",
   "name": "python",
   "nbconvert_exporter": "python",
   "pygments_lexer": "ipython3",
   "version": "3.7.1"
  },
  "toc": {
   "base_numbering": 1,
   "nav_menu": {},
   "number_sections": true,
   "sideBar": true,
   "skip_h1_title": false,
   "title_cell": "Table of Contents",
   "title_sidebar": "Contents",
   "toc_cell": false,
   "toc_position": {},
   "toc_section_display": true,
   "toc_window_display": false
  }
 },
 "nbformat": 4,
 "nbformat_minor": 2
}
